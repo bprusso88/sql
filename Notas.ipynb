{
  "nbformat": 4,
  "nbformat_minor": 0,
  "metadata": {
    "colab": {
      "name": "Notas.ipynb",
      "provenance": [],
      "authorship_tag": "ABX9TyMttMdnG1gQdDmt+k8JLSV6",
      "include_colab_link": true
    },
    "kernelspec": {
      "name": "python3",
      "display_name": "Python 3"
    }
  },
  "cells": [
    {
      "cell_type": "markdown",
      "metadata": {
        "id": "view-in-github",
        "colab_type": "text"
      },
      "source": [
        "<a href=\"https://colab.research.google.com/github/bprusso88/sql/blob/main/Notas.ipynb\" target=\"_parent\"><img src=\"https://colab.research.google.com/assets/colab-badge.svg\" alt=\"Open In Colab\"/></a>"
      ]
    },
    {
      "cell_type": "code",
      "metadata": {
        "id": "z6S5NCZcGN2k",
        "colab": {
          "base_uri": "https://localhost:8080/"
        },
        "outputId": "aba7a232-68c9-458e-c17a-11533df1680e"
      },
      "source": [
        "#Def es para definir funciones, es decir, que podés crear programas con def\n",
        "def funcion_suma(a,b):\n",
        "  return a+b\n",
        "funcion_suma(2,2)"
      ],
      "execution_count": null,
      "outputs": [
        {
          "output_type": "execute_result",
          "data": {
            "text/plain": [
              "4"
            ]
          },
          "metadata": {
            "tags": []
          },
          "execution_count": 4
        }
      ]
    },
    {
      "cell_type": "markdown",
      "metadata": {
        "id": "SZt8jJ4_e0-H"
      },
      "source": [
        "Después del def pongo como quiero que se llame mi función, en el ejemplo puse funcion_suma , pero podría haber puesto Belu directamente si quería. Lo importante es dejar espacio antes de return y después del return poner lo que quiero que me devuelva esa función.  Y en el siguiente renglón tener en cuenta que cuando llame la función tengo que hacerlo pegado al margen porque sino lo toma como que es parte de la función."
      ]
    },
    {
      "cell_type": "code",
      "metadata": {
        "colab": {
          "base_uri": "https://localhost:8080/"
        },
        "id": "xuX8BcfzgTXA",
        "outputId": "b814cac1-0473-482d-94b7-3d4538d88148"
      },
      "source": [
        "#Operador de incremento: Es con += y cuantas veces lo ejecute va ir sumando cada vez más...\n",
        "\n",
        "contador=0\n",
        "contador+=1\n",
        "contador"
      ],
      "execution_count": null,
      "outputs": [
        {
          "output_type": "execute_result",
          "data": {
            "text/plain": [
              "1"
            ]
          },
          "metadata": {
            "tags": []
          },
          "execution_count": 7
        }
      ]
    },
    {
      "cell_type": "code",
      "metadata": {
        "colab": {
          "base_uri": "https://localhost:8080/"
        },
        "id": "bEqBpmxigthG",
        "outputId": "05490f62-149a-47a0-9c88-fffe761374a2"
      },
      "source": [
        "#Operador de decremento: Es con -= y cuantas veces lo ejecute va ir restando cada vez más\n",
        "contadornegativo=0\n",
        "contadornegativo-=1\n",
        "contadornegativo"
      ],
      "execution_count": null,
      "outputs": [
        {
          "output_type": "execute_result",
          "data": {
            "text/plain": [
              "-1"
            ]
          },
          "metadata": {
            "tags": []
          },
          "execution_count": 8
        }
      ]
    },
    {
      "cell_type": "markdown",
      "metadata": {
        "id": "KiXfbtGmkvNi"
      },
      "source": [
        ""
      ]
    },
    {
      "cell_type": "code",
      "metadata": {
        "id": "VGtlfvT_hWbc"
      },
      "source": [
        "#Hay dos operadores de bucles: while y for."
      ],
      "execution_count": null,
      "outputs": []
    },
    {
      "cell_type": "code",
      "metadata": {
        "colab": {
          "base_uri": "https://localhost:8080/"
        },
        "id": "AMlNfMxMiePL",
        "outputId": "cbcee4f2-8fb1-427f-9afa-54aaea21cc97"
      },
      "source": [
        "#Explicación del while: Mientras que inicio sea menor a 10 agregar más 1, como puse inicio igual a 1 empieza a contar a partir de 2 cuando imprimo. Poner el print separado del margen para ponerlo dentro del bucle.\n",
        "\n",
        "inicio=1\n",
        "while inicio<10:\n",
        "  inicio+=1\n",
        "  print(inicio)"
      ],
      "execution_count": null,
      "outputs": [
        {
          "output_type": "stream",
          "text": [
            "2\n",
            "3\n",
            "4\n",
            "5\n",
            "6\n",
            "7\n",
            "8\n",
            "9\n",
            "10\n"
          ],
          "name": "stdout"
        }
      ]
    },
    {
      "cell_type": "code",
      "metadata": {
        "id": "qlAJXL3nkHDb"
      },
      "source": [
        "#Explicación del for: Para una variable \""
      ],
      "execution_count": null,
      "outputs": []
    },
    {
      "cell_type": "code",
      "metadata": {
        "id": "NuNZ952LDRug"
      },
      "source": [
        ""
      ],
      "execution_count": null,
      "outputs": []
    },
    {
      "cell_type": "markdown",
      "metadata": {
        "id": "LdZ3_M6SDSFv"
      },
      "source": [
        ""
      ]
    }
  ]
}